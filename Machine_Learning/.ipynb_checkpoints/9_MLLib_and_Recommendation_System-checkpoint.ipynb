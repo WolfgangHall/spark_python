{
 "cells": [
  {
   "cell_type": "code",
   "execution_count": 1,
   "metadata": {},
   "outputs": [],
   "source": [
    "import findspark\n",
    "findspark.init()"
   ]
  },
  {
   "cell_type": "code",
   "execution_count": 2,
   "metadata": {},
   "outputs": [],
   "source": [
    "from pyspark import SparkConf, SparkContext\n",
    "from pyspark.mllib.recommendation import ALS, Rating"
   ]
  },
  {
   "cell_type": "code",
   "execution_count": 3,
   "metadata": {},
   "outputs": [],
   "source": [
    "def loadMovieNames():\n",
    "    '''Map Movies Ids to Titles for ease of reading'''\n",
    "    movieNames = {}\n",
    "    with open(\"../SparkData/ml-100k/u.item\") as f:\n",
    "        for line in f:\n",
    "            fields = line.split('|')\n",
    "            movieNames[int(fields[0])] = fields[1]\n",
    "    return movieNames"
   ]
  },
  {
   "cell_type": "code",
   "execution_count": 5,
   "metadata": {},
   "outputs": [],
   "source": [
    "# using multiple cpu cores with local[*]\n",
    "# ALS Recommendation system used for Netflix competition integrated into\n",
    "#  Spark library\n",
    "conf = SparkConf().setMaster(\"local[*]\").setAppName(\"MovieRecommendationsALS\")\n",
    "sc = SparkContext(conf=conf)"
   ]
  },
  {
   "cell_type": "code",
   "execution_count": 6,
   "metadata": {},
   "outputs": [],
   "source": [
    "nameDict = loadMovieNames()"
   ]
  },
  {
   "cell_type": "code",
   "execution_count": 7,
   "metadata": {},
   "outputs": [],
   "source": [
    "data = sc.textFile(\"../../SparkData/ml-100k/u.data\")"
   ]
  },
  {
   "cell_type": "code",
   "execution_count": 8,
   "metadata": {},
   "outputs": [],
   "source": [
    "# use built in Rating class for our ratings in the data\n",
    "# cache the data to make sure that it persists\n",
    "ratings = data.map(lambda l: l.split()).map(lambda l: \\\n",
    "       Rating(int(l[0]), int(l[1]), float(l[2])) ).cache()"
   ]
  },
  {
   "cell_type": "code",
   "execution_count": 23,
   "metadata": {},
   "outputs": [],
   "source": [
    "# Build recommendation System\n",
    "rank = 10\n",
    "numIterations = 20\n",
    "model = ALS.train(ratings, rank, numIterations)"
   ]
  },
  {
   "cell_type": "code",
   "execution_count": 24,
   "metadata": {},
   "outputs": [],
   "source": [
    "# fake user\n",
    "# rated 'Star Wars' and 'Empire Strikes Back' with 5* rating\n",
    "# rated 'Gone With the Wind' as a 1* rating\n",
    "# should expect to see action types movies returned as recommendation\n",
    "userID = 0"
   ]
  },
  {
   "cell_type": "code",
   "execution_count": 25,
   "metadata": {},
   "outputs": [],
   "source": [
    "# only return ratings created by designated user with id 0\n",
    "userRatings = ratings.filter(lambda l: l[0] == userID)"
   ]
  },
  {
   "cell_type": "code",
   "execution_count": 26,
   "metadata": {},
   "outputs": [
    {
     "name": "stdout",
     "output_type": "stream",
     "text": [
      "Star Wars (1977): 5.0\n",
      "Empire Strikes Back, The (1980): 5.0\n",
      "Gone with the Wind (1939): 1.0\n"
     ]
    }
   ],
   "source": [
    "for rating in userRatings.collect():\n",
    "    print(\"{}: {}\".format(nameDict[int(rating[1])], str(rating[2])))"
   ]
  },
  {
   "cell_type": "code",
   "execution_count": 27,
   "metadata": {},
   "outputs": [],
   "source": [
    "recommendations = model.recommendProducts(userID, 10)"
   ]
  },
  {
   "cell_type": "code",
   "execution_count": 28,
   "metadata": {},
   "outputs": [
    {
     "name": "stdout",
     "output_type": "stream",
     "text": [
      "Faithful (1996) score 6.210060945564155\n",
      "Lost in Space (1998) score 5.826830531948083\n",
      "Harlem (1993) score 5.801021834001693\n",
      "Bitter Moon (1992) score 5.695843085714616\n",
      "Meet John Doe (1941) score 5.6166306455046096\n",
      "Love in the Afternoon (1957) score 5.611342191235198\n",
      "Chungking Express (1994) score 5.553973257984557\n",
      "Alphaville (1965) score 5.376228333860043\n",
      "Halloween: The Curse of Michael Myers (1995) score 5.352676818241392\n",
      "Bhaji on the Beach (1993) score 5.275847486211784\n"
     ]
    }
   ],
   "source": [
    "for r in recommendations:\n",
    "    print(\"{} score {}\".format( nameDict[int(r[1])], str(r[2]) ))"
   ]
  },
  {
   "cell_type": "markdown",
   "metadata": {},
   "source": [
    "The results are dubious at best. Further parameter tuning, training, and testing is necessary."
   ]
  },
  {
   "cell_type": "code",
   "execution_count": null,
   "metadata": {},
   "outputs": [],
   "source": []
  }
 ],
 "metadata": {
  "kernelspec": {
   "display_name": "Python 3",
   "language": "python",
   "name": "python3"
  },
  "language_info": {
   "codemirror_mode": {
    "name": "ipython",
    "version": 3
   },
   "file_extension": ".py",
   "mimetype": "text/x-python",
   "name": "python",
   "nbconvert_exporter": "python",
   "pygments_lexer": "ipython3",
   "version": "3.6.4"
  }
 },
 "nbformat": 4,
 "nbformat_minor": 2
}
