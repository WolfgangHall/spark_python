{
 "cells": [
  {
   "cell_type": "code",
   "execution_count": 1,
   "metadata": {},
   "outputs": [],
   "source": [
    "import findspark\n",
    "findspark.init()"
   ]
  },
  {
   "cell_type": "code",
   "execution_count": 2,
   "metadata": {},
   "outputs": [],
   "source": [
    "from pyspark.sql import SparkSession"
   ]
  },
  {
   "cell_type": "code",
   "execution_count": 3,
   "metadata": {},
   "outputs": [],
   "source": [
    "spark = SparkSession.builder.appName('TreeMethods').getOrCreate()"
   ]
  },
  {
   "cell_type": "code",
   "execution_count": 4,
   "metadata": {},
   "outputs": [],
   "source": [
    "from pyspark.ml import pipeline\n",
    "from pyspark.ml.classification import (RandomForestClassifier,\n",
    "                                      GBTClassifier,\n",
    "                                      DecisionTreeClassifier)"
   ]
  },
  {
   "cell_type": "code",
   "execution_count": 5,
   "metadata": {},
   "outputs": [],
   "source": [
    "data = spark.read.format('libsvm').load('../../SparkData/sample_libsvm_data.txt')"
   ]
  },
  {
   "cell_type": "code",
   "execution_count": 6,
   "metadata": {},
   "outputs": [],
   "source": [
    "train_data, test_data = data.randomSplit([0.7, 0.3])"
   ]
  },
  {
   "cell_type": "code",
   "execution_count": 8,
   "metadata": {},
   "outputs": [],
   "source": [
    "dtc = DecisionTreeClassifier()\n",
    "rfc = RandomForestClassifier(numTrees=100)\n",
    "gbt = GBTClassifier()"
   ]
  },
  {
   "cell_type": "code",
   "execution_count": 9,
   "metadata": {},
   "outputs": [],
   "source": [
    "dtc_model = dtc.fit(train_data)\n",
    "rfc_model = rfc.fit(train_data)\n",
    "gbt_model = gbt.fit(train_data)"
   ]
  },
  {
   "cell_type": "code",
   "execution_count": 10,
   "metadata": {},
   "outputs": [],
   "source": [
    "dtc_preds = dtc_model.transform(test_data)\n",
    "rfc_preds = rfc_model.transform(test_data)\n",
    "gbt_preds = gbt_model.transform(test_data)"
   ]
  },
  {
   "cell_type": "code",
   "execution_count": 12,
   "metadata": {},
   "outputs": [
    {
     "name": "stdout",
     "output_type": "stream",
     "text": [
      "+-----+--------------------+-------------+-----------+----------+\n",
      "|label|            features|rawPrediction|probability|prediction|\n",
      "+-----+--------------------+-------------+-----------+----------+\n",
      "|  0.0|(692,[98,99,100,1...|    [0.0,1.0]|  [0.0,1.0]|       1.0|\n",
      "|  0.0|(692,[100,101,102...|   [30.0,0.0]|  [1.0,0.0]|       0.0|\n",
      "|  0.0|(692,[124,125,126...|   [30.0,0.0]|  [1.0,0.0]|       0.0|\n",
      "|  0.0|(692,[124,125,126...|   [30.0,0.0]|  [1.0,0.0]|       0.0|\n",
      "|  0.0|(692,[124,125,126...|   [30.0,0.0]|  [1.0,0.0]|       0.0|\n",
      "|  0.0|(692,[126,127,128...|   [30.0,0.0]|  [1.0,0.0]|       0.0|\n",
      "|  0.0|(692,[126,127,128...|   [30.0,0.0]|  [1.0,0.0]|       0.0|\n",
      "|  0.0|(692,[126,127,128...|   [30.0,0.0]|  [1.0,0.0]|       0.0|\n",
      "|  0.0|(692,[128,129,130...|   [30.0,0.0]|  [1.0,0.0]|       0.0|\n",
      "|  0.0|(692,[129,130,131...|   [30.0,0.0]|  [1.0,0.0]|       0.0|\n",
      "|  0.0|(692,[151,152,153...|   [30.0,0.0]|  [1.0,0.0]|       0.0|\n",
      "|  0.0|(692,[154,155,156...|   [30.0,0.0]|  [1.0,0.0]|       0.0|\n",
      "|  0.0|(692,[155,156,180...|   [30.0,0.0]|  [1.0,0.0]|       0.0|\n",
      "|  1.0|(692,[123,124,125...|   [0.0,43.0]|  [0.0,1.0]|       1.0|\n",
      "|  1.0|(692,[124,125,126...|   [0.0,43.0]|  [0.0,1.0]|       1.0|\n",
      "|  1.0|(692,[124,125,126...|   [0.0,43.0]|  [0.0,1.0]|       1.0|\n",
      "|  1.0|(692,[125,126,153...|   [0.0,43.0]|  [0.0,1.0]|       1.0|\n",
      "|  1.0|(692,[126,127,128...|   [0.0,43.0]|  [0.0,1.0]|       1.0|\n",
      "|  1.0|(692,[127,128,154...|   [0.0,43.0]|  [0.0,1.0]|       1.0|\n",
      "|  1.0|(692,[129,130,131...|   [0.0,43.0]|  [0.0,1.0]|       1.0|\n",
      "+-----+--------------------+-------------+-----------+----------+\n",
      "only showing top 20 rows\n",
      "\n"
     ]
    }
   ],
   "source": [
    "dtc_preds.show()"
   ]
  },
  {
   "cell_type": "code",
   "execution_count": 13,
   "metadata": {},
   "outputs": [],
   "source": [
    "# with multiclass evaluator you can access more metrics\n",
    "# as opposed to binary evaluation\n",
    "from pyspark.ml.evaluation import MulticlassClassificationEvaluator"
   ]
  },
  {
   "cell_type": "code",
   "execution_count": 14,
   "metadata": {},
   "outputs": [],
   "source": [
    "acc_eval = MulticlassClassificationEvaluator(metricName='accuracy')"
   ]
  },
  {
   "cell_type": "code",
   "execution_count": 16,
   "metadata": {},
   "outputs": [
    {
     "name": "stdout",
     "output_type": "stream",
     "text": [
      "DTC Accuracy:\n"
     ]
    },
    {
     "data": {
      "text/plain": [
       "0.9615384615384616"
      ]
     },
     "execution_count": 16,
     "metadata": {},
     "output_type": "execute_result"
    }
   ],
   "source": [
    "print('DTC Accuracy:')\n",
    "acc_eval.evaluate(dtc_preds)"
   ]
  },
  {
   "cell_type": "code",
   "execution_count": 17,
   "metadata": {},
   "outputs": [
    {
     "name": "stdout",
     "output_type": "stream",
     "text": [
      "RFC Accuracy:\n"
     ]
    },
    {
     "data": {
      "text/plain": [
       "1.0"
      ]
     },
     "execution_count": 17,
     "metadata": {},
     "output_type": "execute_result"
    }
   ],
   "source": [
    "print('RFC Accuracy:')\n",
    "acc_eval.evaluate(rfc_preds)"
   ]
  },
  {
   "cell_type": "code",
   "execution_count": 18,
   "metadata": {},
   "outputs": [
    {
     "name": "stdout",
     "output_type": "stream",
     "text": [
      "GBT Accuracy:\n"
     ]
    },
    {
     "data": {
      "text/plain": [
       "0.9615384615384616"
      ]
     },
     "execution_count": 18,
     "metadata": {},
     "output_type": "execute_result"
    }
   ],
   "source": [
    "print('GBT Accuracy:')\n",
    "acc_eval.evaluate(gbt_preds)"
   ]
  },
  {
   "cell_type": "code",
   "execution_count": 19,
   "metadata": {},
   "outputs": [
    {
     "data": {
      "text/plain": [
       "SparseVector(692, {99: 0.0006, 101: 0.0011, 123: 0.0003, 127: 0.0005, 131: 0.0005, 132: 0.0005, 154: 0.001, 182: 0.0016, 183: 0.0046, 208: 0.0063, 209: 0.0075, 213: 0.0004, 217: 0.0017, 234: 0.0009, 235: 0.0138, 239: 0.0006, 240: 0.0006, 243: 0.0011, 244: 0.0056, 245: 0.0015, 263: 0.01, 264: 0.0006, 265: 0.0002, 272: 0.0238, 273: 0.007, 291: 0.0052, 292: 0.0014, 293: 0.0005, 301: 0.0088, 302: 0.0016, 303: 0.0006, 315: 0.0006, 317: 0.0073, 318: 0.0028, 319: 0.0005, 320: 0.001, 322: 0.0013, 323: 0.0073, 327: 0.0012, 328: 0.0177, 330: 0.0079, 344: 0.0056, 345: 0.0016, 350: 0.0188, 351: 0.0372, 352: 0.0039, 356: 0.0147, 358: 0.0027, 359: 0.0013, 370: 0.0017, 371: 0.0019, 374: 0.0011, 377: 0.0136, 378: 0.0262, 379: 0.0285, 380: 0.0036, 383: 0.001, 384: 0.0148, 385: 0.0076, 386: 0.0045, 387: 0.0013, 397: 0.0019, 398: 0.0008, 399: 0.0009, 400: 0.0065, 405: 0.0032, 406: 0.025, 407: 0.0409, 412: 0.0021, 416: 0.0035, 427: 0.0066, 428: 0.0011, 429: 0.0063, 430: 0.0028, 431: 0.0011, 433: 0.003, 434: 0.0388, 435: 0.0235, 436: 0.001, 440: 0.0033, 441: 0.0103, 442: 0.0037, 444: 0.0012, 454: 0.0026, 455: 0.0008, 456: 0.0014, 457: 0.0005, 459: 0.0005, 461: 0.0276, 462: 0.0472, 463: 0.008, 468: 0.0152, 471: 0.0011, 482: 0.0094, 483: 0.0262, 484: 0.02, 485: 0.0079, 488: 0.001, 489: 0.0028, 490: 0.0499, 491: 0.0043, 492: 0.0007, 496: 0.009, 508: 0.0006, 509: 0.0037, 510: 0.0006, 511: 0.0454, 512: 0.0355, 513: 0.0093, 515: 0.0028, 517: 0.0085, 518: 0.0218, 519: 0.0004, 520: 0.0004, 523: 0.0113, 526: 0.0016, 538: 0.0024, 539: 0.0166, 540: 0.0143, 543: 0.0005, 545: 0.0004, 547: 0.001, 552: 0.0006, 565: 0.001, 567: 0.0015, 568: 0.0015, 569: 0.0043, 578: 0.0071, 579: 0.0062, 594: 0.0005, 596: 0.0053, 605: 0.0069, 606: 0.0003, 608: 0.0005, 626: 0.0014, 627: 0.0006, 628: 0.0005, 632: 0.0051, 652: 0.0011, 658: 0.0015, 683: 0.0034, 685: 0.0005})"
      ]
     },
     "execution_count": 19,
     "metadata": {},
     "output_type": "execute_result"
    }
   ],
   "source": [
    "rfc_model.featureImportances"
   ]
  },
  {
   "cell_type": "code",
   "execution_count": null,
   "metadata": {},
   "outputs": [],
   "source": []
  }
 ],
 "metadata": {
  "kernelspec": {
   "display_name": "Python 3",
   "language": "python",
   "name": "python3"
  },
  "language_info": {
   "codemirror_mode": {
    "name": "ipython",
    "version": 3
   },
   "file_extension": ".py",
   "mimetype": "text/x-python",
   "name": "python",
   "nbconvert_exporter": "python",
   "pygments_lexer": "ipython3",
   "version": "3.6.4"
  }
 },
 "nbformat": 4,
 "nbformat_minor": 2
}
