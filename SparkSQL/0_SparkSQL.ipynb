{
 "cells": [
  {
   "cell_type": "code",
   "execution_count": 1,
   "metadata": {},
   "outputs": [],
   "source": [
    "import findspark\n",
    "findspark.init()"
   ]
  },
  {
   "cell_type": "code",
   "execution_count": 2,
   "metadata": {},
   "outputs": [],
   "source": [
    "from pyspark.sql import SparkSession\n",
    "from pyspark.sql import Row"
   ]
  },
  {
   "cell_type": "code",
   "execution_count": 14,
   "metadata": {},
   "outputs": [],
   "source": [
    "# create a sparksession (windows specific)\n",
    "spark = SparkSession.builder \\\n",
    "    .master(\"local\") \\\n",
    "    .appName(\"SparkSQL\") \\\n",
    "    .config(\"spark.sql.warehouse.dir\", \"file:///C:/temp\") \\\n",
    "    .getOrCreate()"
   ]
  },
  {
   "cell_type": "code",
   "execution_count": 18,
   "metadata": {},
   "outputs": [],
   "source": [
    "def mapper(line):\n",
    "    fields = line.split(',')\n",
    "    # create Row objects for each field\n",
    "    return Row(ID=int(fields[0]),\n",
    "               # beware of encodes as bytes are not an acceptable input type\n",
    "               name=fields[1], \n",
    "               age=int(fields[2]), \n",
    "               numFriends=int(fields[3]))"
   ]
  },
  {
   "cell_type": "code",
   "execution_count": 19,
   "metadata": {},
   "outputs": [],
   "source": [
    "lines = spark.sparkContext.textFile(\"../../SparkData/fakefriends.xls\")\n",
    "people = lines.map(mapper)"
   ]
  },
  {
   "cell_type": "code",
   "execution_count": 20,
   "metadata": {},
   "outputs": [],
   "source": [
    "# infer the schema\n",
    "# needs to be cached because we are re-using people schema\n",
    "schemaPeople = spark.createDataFrame(people).cache()\n",
    "\n",
    "# create a temp SQL table in memory\n",
    "schemaPeople.createOrReplaceTempView(\"people\")"
   ]
  },
  {
   "cell_type": "code",
   "execution_count": 29,
   "metadata": {},
   "outputs": [
    {
     "name": "stdout",
     "output_type": "stream",
     "text": [
      "+---+---+--------+----------+\n",
      "| ID|age|    name|numFriends|\n",
      "+---+---+--------+----------+\n",
      "|  0| 33|    Will|       385|\n",
      "|  1| 26|Jean-Luc|         2|\n",
      "|  2| 55|    Hugh|       221|\n",
      "|  3| 40|  Deanna|       465|\n",
      "|  4| 68|   Quark|        21|\n",
      "+---+---+--------+----------+\n",
      "only showing top 5 rows\n",
      "\n"
     ]
    }
   ],
   "source": [
    "# show the first n rows of DataFrame\n",
    "schemaPeople.show(5)"
   ]
  },
  {
   "cell_type": "code",
   "execution_count": 22,
   "metadata": {},
   "outputs": [],
   "source": [
    "# run SQL on the DataFrame\n",
    "teenagers = spark.sql(\"SELECT * FROM people WHERE age >= 13 AND age <= 19\")"
   ]
  },
  {
   "cell_type": "code",
   "execution_count": 24,
   "metadata": {},
   "outputs": [
    {
     "name": "stdout",
     "output_type": "stream",
     "text": [
      "Row(ID=21, age=19, name='Miles', numFriends=268)\n",
      "Row(ID=52, age=19, name='Beverly', numFriends=269)\n",
      "Row(ID=54, age=19, name='Brunt', numFriends=5)\n",
      "Row(ID=106, age=18, name='Beverly', numFriends=499)\n",
      "Row(ID=115, age=18, name='Dukat', numFriends=397)\n",
      "Row(ID=133, age=19, name='Quark', numFriends=265)\n",
      "Row(ID=136, age=19, name='Will', numFriends=335)\n",
      "Row(ID=225, age=19, name='Elim', numFriends=106)\n",
      "Row(ID=304, age=19, name='Will', numFriends=404)\n",
      "Row(ID=341, age=18, name='Data', numFriends=326)\n",
      "Row(ID=366, age=19, name='Keiko', numFriends=119)\n",
      "Row(ID=373, age=19, name='Quark', numFriends=272)\n",
      "Row(ID=377, age=18, name='Beverly', numFriends=418)\n",
      "Row(ID=404, age=18, name='Kasidy', numFriends=24)\n",
      "Row(ID=409, age=19, name='Nog', numFriends=267)\n",
      "Row(ID=439, age=18, name='Data', numFriends=417)\n",
      "Row(ID=444, age=18, name='Keiko', numFriends=472)\n",
      "Row(ID=492, age=19, name='Dukat', numFriends=36)\n",
      "Row(ID=494, age=18, name='Kasidy', numFriends=194)\n"
     ]
    }
   ],
   "source": [
    "# result of queries are RDDs that support regular RDD operations\n",
    "for teen in teenagers.collect():\n",
    "    print(teen)"
   ]
  },
  {
   "cell_type": "code",
   "execution_count": 27,
   "metadata": {},
   "outputs": [
    {
     "name": "stdout",
     "output_type": "stream",
     "text": [
      "+---+-----+\n",
      "|age|count|\n",
      "+---+-----+\n",
      "| 18|    8|\n",
      "| 19|   11|\n",
      "| 20|    5|\n",
      "| 21|    8|\n",
      "| 22|    7|\n",
      "| 23|   10|\n",
      "| 24|    5|\n",
      "| 25|   11|\n",
      "| 26|   17|\n",
      "| 27|    8|\n",
      "| 28|   10|\n",
      "| 29|   12|\n",
      "| 30|   11|\n",
      "| 31|    8|\n",
      "| 32|   11|\n",
      "| 33|   12|\n",
      "| 34|    6|\n",
      "| 35|    8|\n",
      "| 36|   10|\n",
      "| 37|    9|\n",
      "+---+-----+\n",
      "only showing top 20 rows\n",
      "\n"
     ]
    }
   ],
   "source": [
    "# can also use functions instead of SQL queries\n",
    "schemaPeople.groupBy(\"age\").count().orderBy(\"age\").show()"
   ]
  },
  {
   "cell_type": "code",
   "execution_count": null,
   "metadata": {},
   "outputs": [],
   "source": []
  }
 ],
 "metadata": {
  "kernelspec": {
   "display_name": "Python 3",
   "language": "python",
   "name": "python3"
  },
  "language_info": {
   "codemirror_mode": {
    "name": "ipython",
    "version": 3
   },
   "file_extension": ".py",
   "mimetype": "text/x-python",
   "name": "python",
   "nbconvert_exporter": "python",
   "pygments_lexer": "ipython3",
   "version": "3.6.4"
  }
 },
 "nbformat": 4,
 "nbformat_minor": 2
}
