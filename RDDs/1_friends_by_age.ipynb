{
 "cells": [
  {
   "cell_type": "code",
   "execution_count": 1,
   "metadata": {},
   "outputs": [],
   "source": [
    "import findspark\n",
    "findspark.init()"
   ]
  },
  {
   "cell_type": "code",
   "execution_count": 2,
   "metadata": {},
   "outputs": [],
   "source": [
    "from pyspark import SparkConf, SparkContext\n",
    "conf = SparkConf().setMaster(\"local\").setAppName(\"FriendsByAge\")\n",
    "sc = SparkContext(conf=conf)"
   ]
  },
  {
   "cell_type": "code",
   "execution_count": 11,
   "metadata": {},
   "outputs": [],
   "source": [
    "def parseLine(line):\n",
    "    fields = line.split(',')\n",
    "    age = float(fields[2])\n",
    "    numFriends = float(fields[3])\n",
    "    return (age, numFriends)\n",
    "\n",
    "# read in excel file\n",
    "lines = sc.textFile(\"../../SparkData/fakefriends.xls\")\n",
    "\n",
    "# return the necessary tuples\n",
    "rdd = lines.map(parseLine)"
   ]
  },
  {
   "cell_type": "code",
   "execution_count": 12,
   "metadata": {},
   "outputs": [
    {
     "data": {
      "text/plain": [
       "['99,Keiko,69,491',\n",
       " '98,Will,44,178',\n",
       " '97,Nerys,69,361',\n",
       " '96,Ezri,25,233',\n",
       " '95,Odo,29,173']"
      ]
     },
     "execution_count": 12,
     "metadata": {},
     "output_type": "execute_result"
    }
   ],
   "source": [
    "lines.top(5)"
   ]
  },
  {
   "cell_type": "code",
   "execution_count": 17,
   "metadata": {},
   "outputs": [
    {
     "data": {
      "text/plain": [
       "[(69.0, 491.0), (69.0, 470.0), (69.0, 431.0), (69.0, 361.0), (69.0, 236.0)]"
      ]
     },
     "execution_count": 17,
     "metadata": {},
     "output_type": "execute_result"
    }
   ],
   "source": [
    "rdd.top(5)"
   ]
  },
  {
   "cell_type": "code",
   "execution_count": 20,
   "metadata": {},
   "outputs": [],
   "source": [
    "# use mapValues to ease computation cost\n",
    "# return (x, 1) to increment entry # when needed\n",
    "# reduceByKey allows me to add the two elements from each tuple together\n",
    "#   the # of entries as well as the total\n",
    "totalsByAge = rdd.mapValues(lambda x: (x, 1)).reduceByKey( \\\n",
    "    lambda x, y: (x[0] + y[0], x[1] + y[1]))\n",
    "\n",
    "# divide total friends # by # of entries per key (age)\n",
    "averagesByAge = totalsByAge.mapValues(lambda x: x[0]/ x[1])\n",
    "\n",
    "# return list that contains all elements of RDD \n",
    "results = averagesByAge.collect()"
   ]
  },
  {
   "cell_type": "code",
   "execution_count": 31,
   "metadata": {},
   "outputs": [],
   "source": [
    "results_by_age = sorted(results, key=lambda tup: tup[0])"
   ]
  },
  {
   "cell_type": "code",
   "execution_count": 32,
   "metadata": {},
   "outputs": [
    {
     "data": {
      "text/plain": [
       "[(18.0, 343.375),\n",
       " (19.0, 213.27272727272728),\n",
       " (20.0, 165.0),\n",
       " (21.0, 350.875),\n",
       " (22.0, 206.42857142857142),\n",
       " (23.0, 246.3),\n",
       " (24.0, 233.8),\n",
       " (25.0, 197.45454545454547),\n",
       " (26.0, 242.05882352941177),\n",
       " (27.0, 228.125),\n",
       " (28.0, 209.1),\n",
       " (29.0, 215.91666666666666),\n",
       " (30.0, 235.8181818181818),\n",
       " (31.0, 267.25),\n",
       " (32.0, 207.9090909090909),\n",
       " (33.0, 325.3333333333333),\n",
       " (34.0, 245.5),\n",
       " (35.0, 211.625),\n",
       " (36.0, 246.6),\n",
       " (37.0, 249.33333333333334),\n",
       " (38.0, 193.53333333333333),\n",
       " (39.0, 169.28571428571428),\n",
       " (40.0, 250.8235294117647),\n",
       " (41.0, 268.55555555555554),\n",
       " (42.0, 303.5),\n",
       " (43.0, 230.57142857142858),\n",
       " (44.0, 282.1666666666667),\n",
       " (45.0, 309.53846153846155),\n",
       " (46.0, 223.69230769230768),\n",
       " (47.0, 233.22222222222223),\n",
       " (48.0, 281.4),\n",
       " (49.0, 184.66666666666666),\n",
       " (50.0, 254.6),\n",
       " (51.0, 302.14285714285717),\n",
       " (52.0, 340.6363636363636),\n",
       " (53.0, 222.85714285714286),\n",
       " (54.0, 278.0769230769231),\n",
       " (55.0, 295.53846153846155),\n",
       " (56.0, 306.6666666666667),\n",
       " (57.0, 258.8333333333333),\n",
       " (58.0, 116.54545454545455),\n",
       " (59.0, 220.0),\n",
       " (60.0, 202.71428571428572),\n",
       " (61.0, 256.22222222222223),\n",
       " (62.0, 220.76923076923077),\n",
       " (63.0, 384.0),\n",
       " (64.0, 281.3333333333333),\n",
       " (65.0, 298.2),\n",
       " (66.0, 276.44444444444446),\n",
       " (67.0, 214.625),\n",
       " (68.0, 269.6),\n",
       " (69.0, 235.2)]"
      ]
     },
     "execution_count": 32,
     "metadata": {},
     "output_type": "execute_result"
    }
   ],
   "source": [
    "results_by_age"
   ]
  },
  {
   "cell_type": "code",
   "execution_count": 23,
   "metadata": {},
   "outputs": [],
   "source": [
    "results_by_ave_num_friends = sorted(results, key=lambda tup: tup[1])"
   ]
  },
  {
   "cell_type": "code",
   "execution_count": 24,
   "metadata": {},
   "outputs": [
    {
     "data": {
      "text/plain": [
       "[(58.0, 116.54545454545455),\n",
       " (20.0, 165.0),\n",
       " (39.0, 169.28571428571428),\n",
       " (49.0, 184.66666666666666),\n",
       " (38.0, 193.53333333333333),\n",
       " (25.0, 197.45454545454547),\n",
       " (60.0, 202.71428571428572),\n",
       " (22.0, 206.42857142857142),\n",
       " (32.0, 207.9090909090909),\n",
       " (28.0, 209.1),\n",
       " (35.0, 211.625),\n",
       " (19.0, 213.27272727272728),\n",
       " (67.0, 214.625),\n",
       " (29.0, 215.91666666666666),\n",
       " (59.0, 220.0),\n",
       " (62.0, 220.76923076923077),\n",
       " (53.0, 222.85714285714286),\n",
       " (46.0, 223.69230769230768),\n",
       " (27.0, 228.125),\n",
       " (43.0, 230.57142857142858),\n",
       " (47.0, 233.22222222222223),\n",
       " (24.0, 233.8),\n",
       " (69.0, 235.2),\n",
       " (30.0, 235.8181818181818),\n",
       " (26.0, 242.05882352941177),\n",
       " (34.0, 245.5),\n",
       " (23.0, 246.3),\n",
       " (36.0, 246.6),\n",
       " (37.0, 249.33333333333334),\n",
       " (40.0, 250.8235294117647),\n",
       " (50.0, 254.6),\n",
       " (61.0, 256.22222222222223),\n",
       " (57.0, 258.8333333333333),\n",
       " (31.0, 267.25),\n",
       " (41.0, 268.55555555555554),\n",
       " (68.0, 269.6),\n",
       " (66.0, 276.44444444444446),\n",
       " (54.0, 278.0769230769231),\n",
       " (64.0, 281.3333333333333),\n",
       " (48.0, 281.4),\n",
       " (44.0, 282.1666666666667),\n",
       " (55.0, 295.53846153846155),\n",
       " (65.0, 298.2),\n",
       " (51.0, 302.14285714285717),\n",
       " (42.0, 303.5),\n",
       " (56.0, 306.6666666666667),\n",
       " (45.0, 309.53846153846155),\n",
       " (33.0, 325.3333333333333),\n",
       " (52.0, 340.6363636363636),\n",
       " (18.0, 343.375),\n",
       " (21.0, 350.875),\n",
       " (63.0, 384.0)]"
      ]
     },
     "execution_count": 24,
     "metadata": {},
     "output_type": "execute_result"
    }
   ],
   "source": [
    "results_by_ave_num_friends"
   ]
  },
  {
   "cell_type": "markdown",
   "metadata": {},
   "source": [
    "Who knew 63 year olds were so populat on this social networking site."
   ]
  },
  {
   "cell_type": "code",
   "execution_count": null,
   "metadata": {},
   "outputs": [],
   "source": []
  }
 ],
 "metadata": {
  "kernelspec": {
   "display_name": "Python 3",
   "language": "python",
   "name": "python3"
  },
  "language_info": {
   "codemirror_mode": {
    "name": "ipython",
    "version": 3
   },
   "file_extension": ".py",
   "mimetype": "text/x-python",
   "name": "python",
   "nbconvert_exporter": "python",
   "pygments_lexer": "ipython3",
   "version": "3.6.4"
  }
 },
 "nbformat": 4,
 "nbformat_minor": 2
}
